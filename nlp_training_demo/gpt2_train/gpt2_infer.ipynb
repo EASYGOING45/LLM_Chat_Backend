{
 "cells": [
  {
   "cell_type": "markdown",
   "id": "d35c06ce-d8f2-4f82-92a7-9c7b7a23ce68",
   "metadata": {},
   "source": [
    "## 介绍\n",
    "这个是`chinese-gpt2`的推理代码\n",
    "1. 将`model_name_or_path = \"checkpoint-36000\"`里面的`\"checkpoint-36000\"`,修改为模型所在的路径。\n",
    "2. 然后运行下面一个代码块，即可输出文本生成结果"
   ]
  },
  {
   "cell_type": "code",
   "execution_count": 4,
   "id": "2245e96c-813e-421e-abd1-eadeb09060fb",
   "metadata": {},
   "outputs": [],
   "source": [
    "from transformers import GPT2Tokenizer, GPT2LMHeadModel, AutoTokenizer\n",
    "\n",
    "# 加载训练好的模型\n",
    "model_name_or_path = \"checkpoint-76000\"\n",
    "tokenizer = AutoTokenizer.from_pretrained(model_name_or_path)\n",
    "\n",
    "# add the EOS token as PAD token to avoid warnings\n",
    "model = GPT2LMHeadModel.from_pretrained(model_name_or_path, pad_token_id=tokenizer.eos_token_id)"
   ]
  },
  {
   "cell_type": "code",
   "execution_count": 6,
   "id": "b538a451-b169-48d3-9110-6adc1bd99e2a",
   "metadata": {},
   "outputs": [
    {
     "name": "stdout",
     "output_type": "stream",
     "text": [
      "Output:\n",
      "----------------------------------------------------------------------------------------------------\n",
      "中 国 的 国 土 面 积 是 多 少 ？, 简 单 的 描 述 是, 答 案 是 中 华 人 民 共 和 国 是 世 界 上 人 口 最 多 、 经 济 最 发 达 、 人 均 收 入 最 高 的 大 国 ， 也 是 全 球 最 大 的 工 业 化 国 家 之 一 ， 是 国 际 上 最 具 发 展 潜 力 和 竞 争 优 势 的 综 合 国 力 排 名 第 二 位 。 中 共 中 央 政 治 局 常 委 、 国 务 院 总 理 李 克 强 在 全 国 国 有 企 业 党 的 建 设 工 作 会 议 上 强 调 ， 要 深 入 学 习 贯 彻 习 近 平 总 书 记 系 列 重 要 讲 话 精 神 ， 牢 固 树 立 四 个 全 面 战 略 布 局 ， 坚 定 不 移 推 进 供 给 侧 结 构 性 改 革 ， 加 快 实 现 两 个 一 百 年 奋 斗 目 标 ，\n"
     ]
    }
   ],
   "source": [
    "txt = \"\"\"\\\n",
    "中国的国土面积\n",
    "\"\"\"\n",
    "# encode context the generation is conditioned on\n",
    "input_ids = tokenizer.encode(txt, return_tensors='pt', add_special_tokens=False)\n",
    "# set no_repeat_ngram_size to 2\n",
    "beam_output = model.generate(\n",
    "    input_ids, \n",
    "    max_length=200, \n",
    "    num_beams=5, \n",
    "    no_repeat_ngram_size=2, \n",
    "    early_stopping=True\n",
    ")\n",
    "\n",
    "print(\"Output:\\n\" + 100 * '-')\n",
    "print(tokenizer.decode(beam_output[0], skip_special_tokens=True))\n"
   ]
  },
  {
   "cell_type": "code",
   "execution_count": null,
   "id": "1e83c8df-6477-4e5c-be5b-772ae71f990d",
   "metadata": {},
   "outputs": [],
   "source": []
  }
 ],
 "metadata": {
  "kernelspec": {
   "display_name": "Python 3 (ipykernel)",
   "language": "python",
   "name": "python3"
  },
  "language_info": {
   "codemirror_mode": {
    "name": "ipython",
    "version": 3
   },
   "file_extension": ".py",
   "mimetype": "text/x-python",
   "name": "python",
   "nbconvert_exporter": "python",
   "pygments_lexer": "ipython3",
   "version": "3.11.8"
  }
 },
 "nbformat": 4,
 "nbformat_minor": 5
}
