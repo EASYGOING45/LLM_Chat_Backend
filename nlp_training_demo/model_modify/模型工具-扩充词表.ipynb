{
 "cells": [
  {
   "cell_type": "code",
   "execution_count": 1,
   "id": "e24a248d-b8eb-4ee0-860a-8f0cfc8de247",
   "metadata": {},
   "outputs": [],
   "source": [
    "import os\n",
    "import torch\n",
    "from typing import List, Optional, Union, Dict\n",
    "from sentencepiece import SentencePieceProcessor\n",
    "from transformers import PreTrainedTokenizer\n",
    "from transformers.utils import logging, PaddingStrategy\n",
    "from transformers.tokenization_utils_base import EncodedInput, BatchEncoding"
   ]
  },
  {
   "cell_type": "code",
   "execution_count": 3,
   "id": "5a5e83ce-beb2-4dd4-a008-d196ef34a9c5",
   "metadata": {},
   "outputs": [],
   "source": [
    "class SPTokenizer:\n",
    "    def __init__(self, model_path: str):\n",
    "        # reload tokenizer\n",
    "        assert os.path.isfile(model_path), model_path\n",
    "        self.sp_model = SentencePieceProcessor(model_file=model_path)\n",
    "\n",
    "        # BOS / EOS token IDs\n",
    "        self.n_words: int = self.sp_model.vocab_size()\n",
    "        self.bos_id: int = self.sp_model.bos_id()\n",
    "        self.eos_id: int = self.sp_model.eos_id()\n",
    "        self.pad_id: int = self.sp_model.eos_id()\n",
    "        assert self.sp_model.vocab_size() == self.sp_model.get_piece_size()\n",
    "\n",
    "        special_tokens = [\"[MASK]\", \"[gMASK]\", \"[sMASK]\", \"sop\", \"eop\"]\n",
    "        self.special_tokens = {}\n",
    "        self.index_special_tokens = {}\n",
    "        for token in special_tokens:\n",
    "            self.special_tokens[token] = self.n_words\n",
    "            self.index_special_tokens[self.n_words] = token\n",
    "            self.n_words += 1\n",
    "\n",
    "    def tokenize(self, s: str):\n",
    "        return self.sp_model.EncodeAsPieces(s)\n",
    "\n",
    "    def encode(self, s: str, bos: bool = False, eos: bool = False) -> List[int]:\n",
    "        assert type(s) is str\n",
    "        t = self.sp_model.encode(s)\n",
    "        if bos:\n",
    "            t = [self.bos_id] + t\n",
    "        if eos:\n",
    "            t = t + [self.eos_id]\n",
    "        return t\n",
    "\n",
    "    def decode(self, t: List[int]) -> str:\n",
    "        return self.sp_model.decode(t)\n",
    "\n",
    "    def decode_tokens(self, tokens: List[str]) -> str:\n",
    "        text = self.sp_model.DecodePieces(tokens)\n",
    "        return text\n",
    "\n",
    "    def convert_token_to_id(self, token):\n",
    "        \"\"\" Converts a token (str) in an id using the vocab. \"\"\"\n",
    "        if token in self.special_tokens:\n",
    "            return self.special_tokens[token]\n",
    "        return self.sp_model.PieceToId(token)\n",
    "\n",
    "    def convert_id_to_token(self, index):\n",
    "        \"\"\"Converts an index (integer) in a token (str) using the vocab.\"\"\"\n",
    "        if index in self.index_special_tokens:\n",
    "            return \"\"\n",
    "        return self.sp_model.IdToPiece(index)"
   ]
  },
  {
   "cell_type": "code",
   "execution_count": null,
   "id": "0e7d037e-b476-41a6-aef3-4df392fb9c91",
   "metadata": {},
   "outputs": [],
   "source": []
  }
 ],
 "metadata": {
  "kernelspec": {
   "display_name": "Python 3 (ipykernel)",
   "language": "python",
   "name": "python3"
  },
  "language_info": {
   "codemirror_mode": {
    "name": "ipython",
    "version": 3
   },
   "file_extension": ".py",
   "mimetype": "text/x-python",
   "name": "python",
   "nbconvert_exporter": "python",
   "pygments_lexer": "ipython3",
   "version": "3.11.8"
  }
 },
 "nbformat": 4,
 "nbformat_minor": 5
}
