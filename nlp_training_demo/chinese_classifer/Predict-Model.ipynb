{
 "cells": [
  {
   "cell_type": "markdown",
   "id": "d2840c4b-eb33-4c3e-9854-1ad1d6e89b5a",
   "metadata": {},
   "source": [
    "## 模型调用&预测"
   ]
  },
  {
   "cell_type": "code",
   "execution_count": 3,
   "id": "209647a0-56cc-47ef-a291-aafc35ca0076",
   "metadata": {},
   "outputs": [],
   "source": [
    "from transformers import pipeline\n",
    "\n",
    "pipe = pipeline(task=\"text-classification\",\n",
    "                model=\"model_result/checkpoint-400\")\n"
   ]
  },
  {
   "cell_type": "code",
   "execution_count": 4,
   "id": "67831033-a609-4f97-9e7f-1539ab92ae35",
   "metadata": {},
   "outputs": [
    {
     "data": {
      "text/plain": [
       "[{'label': 'LABEL_0', 'score': 0.9929848313331604},\n",
       " {'label': 'LABEL_1', 'score': 0.9965023994445801}]"
      ]
     },
     "execution_count": 4,
     "metadata": {},
     "output_type": "execute_result"
    }
   ],
   "source": [
    "test_str = ['这个酒店也太差了', '非常实惠']\n",
    "pipe(test_str)"
   ]
  },
  {
   "cell_type": "code",
   "execution_count": null,
   "id": "f4fef218-498f-407d-b8db-19bc6a01a7d2",
   "metadata": {},
   "outputs": [],
   "source": []
  }
 ],
 "metadata": {
  "kernelspec": {
   "display_name": "Python 3 (ipykernel)",
   "language": "python",
   "name": "python3"
  },
  "language_info": {
   "codemirror_mode": {
    "name": "ipython",
    "version": 3
   },
   "file_extension": ".py",
   "mimetype": "text/x-python",
   "name": "python",
   "nbconvert_exporter": "python",
   "pygments_lexer": "ipython3",
   "version": "3.11.8"
  }
 },
 "nbformat": 4,
 "nbformat_minor": 5
}
