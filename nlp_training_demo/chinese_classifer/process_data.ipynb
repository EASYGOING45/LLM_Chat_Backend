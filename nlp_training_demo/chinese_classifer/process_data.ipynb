{
 "cells": [
  {
   "cell_type": "code",
   "execution_count": 1,
   "id": "initial_id",
   "metadata": {
    "collapsed": true,
    "ExecuteTime": {
     "end_time": "2024-04-12T01:05:18.411111Z",
     "start_time": "2024-04-12T01:05:17.429933Z"
    }
   },
   "outputs": [],
   "source": [
    "import numpy as np\n",
    "import pandas as pd\n",
    "import re\n",
    "from pathlib import Path\n",
    "import os\n",
    "import shutil\n",
    "\n",
    "\n",
    "def clean_question(x: str) -> str:\n",
    "    \"\"\"去除文本中的符号 仅保留中文、英文、数字等\"\"\"\n",
    "    str_text = re.sub(\n",
    "        u\"([^\\u4e00-\\u9fa5\\u0030-\\u0039\\u0041-\\u005a\\u0061-\\u007a])\", \"\", x)\n",
    "    return str_text"
   ]
  },
  {
   "cell_type": "code",
   "execution_count": 2,
   "outputs": [
    {
     "data": {
      "text/plain": "      label                                             review\n0         1  距离川沙公路较近,但是公交指示不对,如果是\"蔡陆线\"的话,会非常麻烦.建议用别的路线.房间较...\n1         1                       商务大床房，房间很大，床有2M宽，整体感觉经济实惠不错!\n2         1         早餐太差，无论去多少人，那边也不加食品的。酒店应该重视一下这个问题了。房间本身很好。\n3         1  宾馆在小街道上，不大好找，但还好北京热心同胞很多~宾馆设施跟介绍的差不多，房间很小，确实挺小...\n4         1               CBD中心,周围没什么店铺,说5星有点勉强.不知道为什么卫生间没有电吹风\n...     ...                                                ...\n7761      0  尼斯酒店的几大特点：噪音大、环境差、配置低、服务效率低。如：1、隔壁歌厅的声音闹至午夜3点许...\n7762      0  盐城来了很多次，第一次住盐阜宾馆，我的确很失望整个墙壁黑咕隆咚的，好像被烟熏过一样家具非常的...\n7763      0  看照片觉得还挺不错的，又是4星级的，但入住以后除了后悔没有别的，房间挺大但空空的，早餐是有但...\n7764      0  我们去盐城的时候那里的最低气温只有4度，晚上冷得要死，居然还不开空调，投诉到酒店客房部，得到...\n7765      0  说实在的我很失望，之前看了其他人的点评后觉得还可以才去的，结果让我们大跌眼镜。我想这家酒店以...\n\n[7765 rows x 2 columns]",
      "text/html": "<div>\n<style scoped>\n    .dataframe tbody tr th:only-of-type {\n        vertical-align: middle;\n    }\n\n    .dataframe tbody tr th {\n        vertical-align: top;\n    }\n\n    .dataframe thead th {\n        text-align: right;\n    }\n</style>\n<table border=\"1\" class=\"dataframe\">\n  <thead>\n    <tr style=\"text-align: right;\">\n      <th></th>\n      <th>label</th>\n      <th>review</th>\n    </tr>\n  </thead>\n  <tbody>\n    <tr>\n      <th>0</th>\n      <td>1</td>\n      <td>距离川沙公路较近,但是公交指示不对,如果是\"蔡陆线\"的话,会非常麻烦.建议用别的路线.房间较...</td>\n    </tr>\n    <tr>\n      <th>1</th>\n      <td>1</td>\n      <td>商务大床房，房间很大，床有2M宽，整体感觉经济实惠不错!</td>\n    </tr>\n    <tr>\n      <th>2</th>\n      <td>1</td>\n      <td>早餐太差，无论去多少人，那边也不加食品的。酒店应该重视一下这个问题了。房间本身很好。</td>\n    </tr>\n    <tr>\n      <th>3</th>\n      <td>1</td>\n      <td>宾馆在小街道上，不大好找，但还好北京热心同胞很多~宾馆设施跟介绍的差不多，房间很小，确实挺小...</td>\n    </tr>\n    <tr>\n      <th>4</th>\n      <td>1</td>\n      <td>CBD中心,周围没什么店铺,说5星有点勉强.不知道为什么卫生间没有电吹风</td>\n    </tr>\n    <tr>\n      <th>...</th>\n      <td>...</td>\n      <td>...</td>\n    </tr>\n    <tr>\n      <th>7761</th>\n      <td>0</td>\n      <td>尼斯酒店的几大特点：噪音大、环境差、配置低、服务效率低。如：1、隔壁歌厅的声音闹至午夜3点许...</td>\n    </tr>\n    <tr>\n      <th>7762</th>\n      <td>0</td>\n      <td>盐城来了很多次，第一次住盐阜宾馆，我的确很失望整个墙壁黑咕隆咚的，好像被烟熏过一样家具非常的...</td>\n    </tr>\n    <tr>\n      <th>7763</th>\n      <td>0</td>\n      <td>看照片觉得还挺不错的，又是4星级的，但入住以后除了后悔没有别的，房间挺大但空空的，早餐是有但...</td>\n    </tr>\n    <tr>\n      <th>7764</th>\n      <td>0</td>\n      <td>我们去盐城的时候那里的最低气温只有4度，晚上冷得要死，居然还不开空调，投诉到酒店客房部，得到...</td>\n    </tr>\n    <tr>\n      <th>7765</th>\n      <td>0</td>\n      <td>说实在的我很失望，之前看了其他人的点评后觉得还可以才去的，结果让我们大跌眼镜。我想这家酒店以...</td>\n    </tr>\n  </tbody>\n</table>\n<p>7765 rows × 2 columns</p>\n</div>"
     },
     "execution_count": 2,
     "metadata": {},
     "output_type": "execute_result"
    }
   ],
   "source": [
    "rawdata = pd.read_csv(\"data_all/ChnSentiCorp_htl_all.csv\").pipe(\n",
    "    lambda x: x.dropna()\n",
    ").pipe(\n",
    "    lambda x: x\n",
    "    # lambda x: x.assign(**{\n",
    "    #     'review':x['review'].apply(lambda j: j[:512])\n",
    "    # })\n",
    ")\n",
    "rawdata"
   ],
   "metadata": {
    "collapsed": false,
    "ExecuteTime": {
     "end_time": "2024-04-12T01:05:34.148814Z",
     "start_time": "2024-04-12T01:05:33.951641Z"
    }
   },
   "id": "2192319f07ae3ba3"
  },
  {
   "cell_type": "code",
   "execution_count": 3,
   "outputs": [
    {
     "data": {
      "text/plain": "       freq\nlabel      \n0      2443\n1      5322",
      "text/html": "<div>\n<style scoped>\n    .dataframe tbody tr th:only-of-type {\n        vertical-align: middle;\n    }\n\n    .dataframe tbody tr th {\n        vertical-align: top;\n    }\n\n    .dataframe thead th {\n        text-align: right;\n    }\n</style>\n<table border=\"1\" class=\"dataframe\">\n  <thead>\n    <tr style=\"text-align: right;\">\n      <th></th>\n      <th>freq</th>\n    </tr>\n    <tr>\n      <th>label</th>\n      <th></th>\n    </tr>\n  </thead>\n  <tbody>\n    <tr>\n      <th>0</th>\n      <td>2443</td>\n    </tr>\n    <tr>\n      <th>1</th>\n      <td>5322</td>\n    </tr>\n  </tbody>\n</table>\n</div>"
     },
     "execution_count": 3,
     "metadata": {},
     "output_type": "execute_result"
    }
   ],
   "source": [
    "rawdata.groupby(['label']).agg(\n",
    "    freq = ('review', 'count')\n",
    ")"
   ],
   "metadata": {
    "collapsed": false,
    "ExecuteTime": {
     "end_time": "2024-04-12T01:05:48.888629Z",
     "start_time": "2024-04-12T01:05:48.858087Z"
    }
   },
   "id": "4e282308ac6937b5"
  },
  {
   "cell_type": "code",
   "execution_count": 4,
   "outputs": [],
   "source": [
    "target_data_dir = Path(\"data_all/data\")\n",
    "\n",
    "if target_data_dir.exists():\n",
    "    shutil.rmtree(target_data_dir)\n",
    "\n",
    "os.makedirs(name=target_data_dir, exist_ok=True)"
   ],
   "metadata": {
    "collapsed": false,
    "ExecuteTime": {
     "end_time": "2024-04-12T01:05:55.310200Z",
     "start_time": "2024-04-12T01:05:55.303750Z"
    }
   },
   "id": "ffe3139316054198"
  },
  {
   "cell_type": "code",
   "execution_count": 5,
   "outputs": [
    {
     "data": {
      "text/plain": "      label                                               text\n5103      1  388元的B标准间房间很好的！设备不错！但是淋浴房缺少一个放东西的支架，不是很方便。服务很好...\n394       1  环境优美，服务员热情大方，有一种宾至如归的感觉，下次去福州还住于山宾馆！！我到现在还忘不了那...\n2136      1                       房间干净舒适，是出差、旅游度假的理想之选。服务业很不错。\n6301      0   没见过这么差的四星酒店!建议大家以后千万别住,离银滩很远很远!环境也很一般,服务就差得没法提了!\n4735      1  地理位置不错，在市中心繁华地段，去天津街、清泥洼都很方便，楼下不远就有有轨电车；我住的是个m...\n...     ...                                                ...\n6388      0  空调温度不足，很冷。因为宾馆在纳爱斯傍边，一早起来一股洗衣粉的味道，虽在丽水，空气质量却极差...\n6369      0  我是25日预定的单人大床房180元，当我到达前台时，我没有先说我预定的。问单人大床房现在是什...\n1796      1                               物有所值,看来安徽人民币江苏人民是在得多\n6840      0  充其量是二星的水平.卫生间里没有单独的淋浴间,正对着台盆的墙壁上装个花洒就是淋浴了,所以每次...\n2462      1  酒店位置比较偏僻，离东莞候机厅还有40分钟路程。但是酒店设施和环境还不错。房间够大，设施让人...\n\n[6988 rows x 2 columns]",
      "text/html": "<div>\n<style scoped>\n    .dataframe tbody tr th:only-of-type {\n        vertical-align: middle;\n    }\n\n    .dataframe tbody tr th {\n        vertical-align: top;\n    }\n\n    .dataframe thead th {\n        text-align: right;\n    }\n</style>\n<table border=\"1\" class=\"dataframe\">\n  <thead>\n    <tr style=\"text-align: right;\">\n      <th></th>\n      <th>label</th>\n      <th>text</th>\n    </tr>\n  </thead>\n  <tbody>\n    <tr>\n      <th>5103</th>\n      <td>1</td>\n      <td>388元的B标准间房间很好的！设备不错！但是淋浴房缺少一个放东西的支架，不是很方便。服务很好...</td>\n    </tr>\n    <tr>\n      <th>394</th>\n      <td>1</td>\n      <td>环境优美，服务员热情大方，有一种宾至如归的感觉，下次去福州还住于山宾馆！！我到现在还忘不了那...</td>\n    </tr>\n    <tr>\n      <th>2136</th>\n      <td>1</td>\n      <td>房间干净舒适，是出差、旅游度假的理想之选。服务业很不错。</td>\n    </tr>\n    <tr>\n      <th>6301</th>\n      <td>0</td>\n      <td>没见过这么差的四星酒店!建议大家以后千万别住,离银滩很远很远!环境也很一般,服务就差得没法提了!</td>\n    </tr>\n    <tr>\n      <th>4735</th>\n      <td>1</td>\n      <td>地理位置不错，在市中心繁华地段，去天津街、清泥洼都很方便，楼下不远就有有轨电车；我住的是个m...</td>\n    </tr>\n    <tr>\n      <th>...</th>\n      <td>...</td>\n      <td>...</td>\n    </tr>\n    <tr>\n      <th>6388</th>\n      <td>0</td>\n      <td>空调温度不足，很冷。因为宾馆在纳爱斯傍边，一早起来一股洗衣粉的味道，虽在丽水，空气质量却极差...</td>\n    </tr>\n    <tr>\n      <th>6369</th>\n      <td>0</td>\n      <td>我是25日预定的单人大床房180元，当我到达前台时，我没有先说我预定的。问单人大床房现在是什...</td>\n    </tr>\n    <tr>\n      <th>1796</th>\n      <td>1</td>\n      <td>物有所值,看来安徽人民币江苏人民是在得多</td>\n    </tr>\n    <tr>\n      <th>6840</th>\n      <td>0</td>\n      <td>充其量是二星的水平.卫生间里没有单独的淋浴间,正对着台盆的墙壁上装个花洒就是淋浴了,所以每次...</td>\n    </tr>\n    <tr>\n      <th>2462</th>\n      <td>1</td>\n      <td>酒店位置比较偏僻，离东莞候机厅还有40分钟路程。但是酒店设施和环境还不错。房间够大，设施让人...</td>\n    </tr>\n  </tbody>\n</table>\n<p>6988 rows × 2 columns</p>\n</div>"
     },
     "execution_count": 5,
     "metadata": {},
     "output_type": "execute_result"
    }
   ],
   "source": [
    "rawdata.sample(frac=0.9).pipe(\n",
    "    lambda x: x.rename(columns={\n",
    "        'review':'text'\n",
    "    })\n",
    ")"
   ],
   "metadata": {
    "collapsed": false,
    "ExecuteTime": {
     "end_time": "2024-04-12T01:06:10.830666Z",
     "start_time": "2024-04-12T01:06:10.763389Z"
    }
   },
   "id": "3c7a91a585e57854"
  },
  {
   "cell_type": "code",
   "execution_count": 6,
   "outputs": [],
   "source": [
    "rawdata.sample(frac=0.9).pipe(\n",
    "    lambda x: x.rename(columns={\n",
    "        'review':'text'\n",
    "    })\n",
    ").to_csv(\"data_all/data/train_data.csv\", index=False)"
   ],
   "metadata": {
    "collapsed": false,
    "ExecuteTime": {
     "end_time": "2024-04-12T01:06:37.680789Z",
     "start_time": "2024-04-12T01:06:37.629091Z"
    }
   },
   "id": "fd09d9de555b2f15"
  },
  {
   "cell_type": "code",
   "execution_count": 7,
   "outputs": [],
   "source": [
    "rawdata.sample(frac=0.1).pipe(\n",
    "    lambda x: x.rename(columns={\n",
    "        'review':'text'\n",
    "    })\n",
    ").to_csv(\"data_all/data/test_data.csv\", index=False)"
   ],
   "metadata": {
    "collapsed": false,
    "ExecuteTime": {
     "end_time": "2024-04-12T01:06:45.857761Z",
     "start_time": "2024-04-12T01:06:45.654917Z"
    }
   },
   "id": "9ad6bcd93dd46047"
  },
  {
   "cell_type": "code",
   "execution_count": 8,
   "outputs": [],
   "source": [
    "rawdata.sample(frac=0.2).pipe(\n",
    "    lambda x: x.rename(columns={\n",
    "        'review':'text'\n",
    "    })\n",
    ").to_csv(\"data_all/data/valid_data.csv\", index=False)"
   ],
   "metadata": {
    "collapsed": false,
    "ExecuteTime": {
     "end_time": "2024-04-12T01:06:53.213878Z",
     "start_time": "2024-04-12T01:06:53.105610Z"
    }
   },
   "id": "b176d16998c4610"
  },
  {
   "cell_type": "code",
   "execution_count": null,
   "outputs": [],
   "source": [],
   "metadata": {
    "collapsed": false
   },
   "id": "192e74e18baebce7"
  }
 ],
 "metadata": {
  "kernelspec": {
   "display_name": "Python 3",
   "language": "python",
   "name": "python3"
  },
  "language_info": {
   "codemirror_mode": {
    "name": "ipython",
    "version": 2
   },
   "file_extension": ".py",
   "mimetype": "text/x-python",
   "name": "python",
   "nbconvert_exporter": "python",
   "pygments_lexer": "ipython2",
   "version": "2.7.6"
  }
 },
 "nbformat": 4,
 "nbformat_minor": 5
}
