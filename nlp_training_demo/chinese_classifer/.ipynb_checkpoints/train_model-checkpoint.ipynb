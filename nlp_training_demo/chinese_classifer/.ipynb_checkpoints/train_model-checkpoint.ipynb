{
 "cells": [
  {
   "cell_type": "markdown",
   "id": "576fd8befa4e33c5",
   "metadata": {
    "collapsed": false,
    "jupyter": {
     "outputs_hidden": false
    }
   },
   "source": [
    "# 导入训练所需包"
   ]
  },
  {
   "cell_type": "code",
   "execution_count": 2,
   "id": "9d156bbf4e6eb134",
   "metadata": {
    "ExecuteTime": {
     "end_time": "2024-04-12T09:05:37.357580Z",
     "start_time": "2024-04-12T09:05:28.867569Z"
    },
    "collapsed": false,
    "jupyter": {
     "outputs_hidden": false
    }
   },
   "outputs": [
    {
     "data": {
      "application/vnd.jupyter.widget-view+json": {
       "model_id": "52ef3091c8c843fe8d70633ec7932de5",
       "version_major": 2,
       "version_minor": 0
      },
      "text/plain": [
       "Downloading builder script:   0%|          | 0.00/4.20k [00:00<?, ?B/s]"
      ]
     },
     "metadata": {},
     "output_type": "display_data"
    }
   ],
   "source": [
    "from pathlib import Path\n",
    "import shutil\n",
    "from transformers import AutoModelForSequenceClassification, TrainingArguments, Trainer\n",
    "from transformers import DataCollatorWithPadding\n",
    "from transformers import AutoTokenizer\n",
    "from datasets import load_dataset\n",
    "import evaluate\n",
    "import numpy as np\n",
    "import pandas as pd\n",
    "import os\n",
    "\n",
    "metric = evaluate.load(\"accuracy\")"
   ]
  },
  {
   "cell_type": "markdown",
   "id": "c577d89e-7e6b-4c11-a200-181632c0f339",
   "metadata": {
    "collapsed": false,
    "jupyter": {
     "outputs_hidden": false
    }
   },
   "source": [
    "## 训练配置\n",
    "1. `MODEL_NAME_OR_PATH`:大模型的名称，这里使用的是`\"hfl/chinese-roberta-wwm-ext\"`\n",
    "2. `NUM_LABELS`:文本分类的类别数量，这个是按需而定，我这里分类是只有两类，因此就设置为2\n",
    "3. `MAX_LENGTH`:每一条文本的长度，这里设置为64。一般来说长度64就已经覆盖大部分场景了，128也是可以。但是128对显存要求更高一点。"
   ]
  },
  {
   "cell_type": "code",
   "execution_count": 3,
   "id": "550db325-83a9-4d41-92e2-23bd69aeb353",
   "metadata": {},
   "outputs": [
    {
     "data": {
      "application/vnd.jupyter.widget-view+json": {
       "model_id": "224749a1dbaf4316b9ff8af0564c0a05",
       "version_major": 2,
       "version_minor": 0
      },
      "text/plain": [
       "config.json:   0%|          | 0.00/689 [00:00<?, ?B/s]"
      ]
     },
     "metadata": {},
     "output_type": "display_data"
    },
    {
     "data": {
      "application/vnd.jupyter.widget-view+json": {
       "model_id": "fdecb9dbc0244e4594fde5d6112407ee",
       "version_major": 2,
       "version_minor": 0
      },
      "text/plain": [
       "pytorch_model.bin:   0%|          | 0.00/412M [00:00<?, ?B/s]"
      ]
     },
     "metadata": {},
     "output_type": "display_data"
    },
    {
     "name": "stderr",
     "output_type": "stream",
     "text": [
      "/root/miniconda3/envs/nlp_train/lib/python3.11/site-packages/torch/_utils.py:831: UserWarning: TypedStorage is deprecated. It will be removed in the future and UntypedStorage will be the only storage class. This should only matter to you if you are using storages directly.  To access UntypedStorage directly, use tensor.untyped_storage() instead of tensor.storage()\n",
      "  return self.fget.__get__(instance, owner)()\n",
      "Some weights of BertForSequenceClassification were not initialized from the model checkpoint at hfl/chinese-roberta-wwm-ext and are newly initialized: ['classifier.bias', 'classifier.weight']\n",
      "You should probably TRAIN this model on a down-stream task to be able to use it for predictions and inference.\n"
     ]
    },
    {
     "data": {
      "application/vnd.jupyter.widget-view+json": {
       "model_id": "b86fc926682047e2bcbb15ed49ab97f6",
       "version_major": 2,
       "version_minor": 0
      },
      "text/plain": [
       "tokenizer_config.json:   0%|          | 0.00/19.0 [00:00<?, ?B/s]"
      ]
     },
     "metadata": {},
     "output_type": "display_data"
    },
    {
     "data": {
      "application/vnd.jupyter.widget-view+json": {
       "model_id": "bc047dfcb31a404b86dcbcb29a3457dc",
       "version_major": 2,
       "version_minor": 0
      },
      "text/plain": [
       "vocab.txt:   0%|          | 0.00/110k [00:00<?, ?B/s]"
      ]
     },
     "metadata": {},
     "output_type": "display_data"
    },
    {
     "data": {
      "application/vnd.jupyter.widget-view+json": {
       "model_id": "f30ef5601b6c4a88b0d70e199821ebfe",
       "version_major": 2,
       "version_minor": 0
      },
      "text/plain": [
       "tokenizer.json:   0%|          | 0.00/269k [00:00<?, ?B/s]"
      ]
     },
     "metadata": {},
     "output_type": "display_data"
    },
    {
     "data": {
      "application/vnd.jupyter.widget-view+json": {
       "model_id": "479d3e0e60fb42a6a6aec2671f7a80cd",
       "version_major": 2,
       "version_minor": 0
      },
      "text/plain": [
       "added_tokens.json:   0%|          | 0.00/2.00 [00:00<?, ?B/s]"
      ]
     },
     "metadata": {},
     "output_type": "display_data"
    },
    {
     "data": {
      "application/vnd.jupyter.widget-view+json": {
       "model_id": "0ffe664ba7db44c2a0def088f1a1400d",
       "version_major": 2,
       "version_minor": 0
      },
      "text/plain": [
       "special_tokens_map.json:   0%|          | 0.00/112 [00:00<?, ?B/s]"
      ]
     },
     "metadata": {},
     "output_type": "display_data"
    }
   ],
   "source": [
    "# \"bert-base-chinese\"  # \"distilbert-base-uncased\"\n",
    "MODEL_NAME_OR_PATH = \"hfl/chinese-roberta-wwm-ext\"\n",
    "NUM_LABELS = 2\n",
    "MAX_LENGTH = 64\n",
    "\n",
    "model = AutoModelForSequenceClassification.from_pretrained(\n",
    "    MODEL_NAME_OR_PATH, num_labels=NUM_LABELS)\n",
    "\n",
    "tokenizer = AutoTokenizer.from_pretrained(MODEL_NAME_OR_PATH)"
   ]
  },
  {
   "cell_type": "code",
   "execution_count": 4,
   "id": "04a5d8ef-2dc5-40f4-8d20-85b74a0da833",
   "metadata": {},
   "outputs": [
    {
     "data": {
      "application/vnd.jupyter.widget-view+json": {
       "model_id": "52b1ee52a84744e98f363dfd4e61e968",
       "version_major": 2,
       "version_minor": 0
      },
      "text/plain": [
       "Generating train split: 0 examples [00:00, ? examples/s]"
      ]
     },
     "metadata": {},
     "output_type": "display_data"
    },
    {
     "data": {
      "application/vnd.jupyter.widget-view+json": {
       "model_id": "1241c7d2f93e4420bd16bb4a9444cee4",
       "version_major": 2,
       "version_minor": 0
      },
      "text/plain": [
       "Generating test split: 0 examples [00:00, ? examples/s]"
      ]
     },
     "metadata": {},
     "output_type": "display_data"
    },
    {
     "data": {
      "application/vnd.jupyter.widget-view+json": {
       "model_id": "1928480e0d9d418e93aa2ef36bb9b790",
       "version_major": 2,
       "version_minor": 0
      },
      "text/plain": [
       "Map:   0%|          | 0/6988 [00:00<?, ? examples/s]"
      ]
     },
     "metadata": {},
     "output_type": "display_data"
    },
    {
     "data": {
      "application/vnd.jupyter.widget-view+json": {
       "model_id": "4ac1d1b9c7e14bbfb8221cad4dacf039",
       "version_major": 2,
       "version_minor": 0
      },
      "text/plain": [
       "Map:   0%|          | 0/776 [00:00<?, ? examples/s]"
      ]
     },
     "metadata": {},
     "output_type": "display_data"
    }
   ],
   "source": [
    "text_dataset = load_dataset('csv', data_files={\n",
    "    'train': ['data_all/data/train_data.csv'],\n",
    "    'test': ['data_all/data/test_data.csv']})\n",
    "\n",
    "\n",
    "def preprocess_function(examples):\n",
    "    return tokenizer(examples[\"text\"], truncation=True, max_length=MAX_LENGTH)\n",
    "\n",
    "# 在实际工程中，会先使用`Tokenizer`把所有的文本转换成`input_ids`,`token_type_ids`,`attention_mask`，然后在训练的时候，这步就不再做了，目的是减少训练过程中cpu处理数据的时间，不给显卡休息时间。\n",
    "tokenized_text = text_dataset.map(preprocess_function, batched=True)\n",
    "\n",
    "data_collator = DataCollatorWithPadding(\n",
    "    tokenizer=tokenizer, max_length=MAX_LENGTH)\n"
   ]
  },
  {
   "cell_type": "markdown",
   "id": "9595118d-dd74-45e2-b589-54790d820907",
   "metadata": {},
   "source": [
    "## 模型训练设置\n",
    "1. `LOGGING_DIR`: 就是一个储存日志的文件夹。\n",
    "2. `MODEL_DIR`: 在模型训练的时候，会把每一阶段的模型都保存在文件夹下。"
   ]
  },
  {
   "cell_type": "code",
   "execution_count": 11,
   "id": "f67c3a15-aa90-42ea-8f8a-826f4cc7816c",
   "metadata": {},
   "outputs": [],
   "source": [
    "\n",
    "\n",
    "LOGGING_DIR = \"logging_dir\"\n",
    "MODEL_DIR = \"model_result\"\n",
    "shutil.rmtree(LOGGING_DIR, ignore_errors=True)\n",
    "\n",
    "training_args = TrainingArguments(\n",
    "    output_dir=MODEL_DIR,\n",
    "    overwrite_output_dir=True,\n",
    "    logging_dir=LOGGING_DIR,\n",
    "    learning_rate=2e-5,\n",
    "    per_device_train_batch_size=16,  # 每一次batch，训练的数据的数量，如果显存高，可以32起步，如果一般，那可能就是个位数，比如2，4，8，16等。\n",
    "    per_device_eval_batch_size=16,  # 在评估的时候，batch的大小，看显存大小了。\n",
    "    do_eval=True,\n",
    "    evaluation_strategy=\"steps\",\n",
    "    eval_accumulation_steps=50,\n",
    "    eval_steps=50,\n",
    "    logging_steps=50,\n",
    "    save_steps=100,\n",
    "    num_train_epochs=4,  #训练多少轮\n",
    "    weight_decay=0.01,\n",
    "    save_total_limit=3,  # 模型每`eval_steps`步，就会保存一下模型，只会保存最新的3个模型，\n",
    "    jit_mode_eval=True,\n",
    "    fp16=False,\n",
    "    gradient_accumulation_steps=4,  # 使用梯度积累，提高训练速度\n",
    "    # fp16_opt_level='O3',\n",
    "    load_best_model_at_end=True,  # 最后，加载效果最好的模型\n",
    "\n",
    ")\n"
   ]
  },
  {
   "cell_type": "code",
   "execution_count": 12,
   "id": "7f73d104-a585-4841-8cb4-ac67c873f4ea",
   "metadata": {},
   "outputs": [
    {
     "name": "stderr",
     "output_type": "stream",
     "text": [
      "/root/miniconda3/envs/nlp_train/lib/python3.11/site-packages/accelerate/accelerator.py:436: FutureWarning: Passing the following arguments to `Accelerator` is deprecated and will be removed in version 1.0 of Accelerate: dict_keys(['dispatch_batches', 'split_batches', 'even_batches', 'use_seedable_sampler']). Please pass an `accelerate.DataLoaderConfiguration` instead: \n",
      "dataloader_config = DataLoaderConfiguration(dispatch_batches=None, split_batches=False, even_batches=True, use_seedable_sampler=True)\n",
      "  warnings.warn(\n",
      "Detected kernel version 5.4.119, which is below the recommended minimum of 5.5.0; this can cause the process to hang. It is recommended to upgrade the kernel to the minimum version or higher.\n"
     ]
    },
    {
     "data": {
      "text/html": [
       "\n",
       "    <div>\n",
       "      \n",
       "      <progress value='436' max='436' style='width:300px; height:20px; vertical-align: middle;'></progress>\n",
       "      [436/436 37:52, Epoch 3/4]\n",
       "    </div>\n",
       "    <table border=\"1\" class=\"dataframe\">\n",
       "  <thead>\n",
       " <tr style=\"text-align: left;\">\n",
       "      <th>Step</th>\n",
       "      <th>Training Loss</th>\n",
       "      <th>Validation Loss</th>\n",
       "      <th>Accuracy</th>\n",
       "    </tr>\n",
       "  </thead>\n",
       "  <tbody>\n",
       "    <tr>\n",
       "      <td>50</td>\n",
       "      <td>0.285400</td>\n",
       "      <td>0.268762</td>\n",
       "      <td>0.886598</td>\n",
       "    </tr>\n",
       "    <tr>\n",
       "      <td>100</td>\n",
       "      <td>0.284100</td>\n",
       "      <td>0.220937</td>\n",
       "      <td>0.912371</td>\n",
       "    </tr>\n",
       "    <tr>\n",
       "      <td>150</td>\n",
       "      <td>0.222800</td>\n",
       "      <td>0.169436</td>\n",
       "      <td>0.943299</td>\n",
       "    </tr>\n",
       "    <tr>\n",
       "      <td>200</td>\n",
       "      <td>0.196600</td>\n",
       "      <td>0.148245</td>\n",
       "      <td>0.953608</td>\n",
       "    </tr>\n",
       "    <tr>\n",
       "      <td>250</td>\n",
       "      <td>0.151200</td>\n",
       "      <td>0.129083</td>\n",
       "      <td>0.960052</td>\n",
       "    </tr>\n",
       "    <tr>\n",
       "      <td>300</td>\n",
       "      <td>0.134400</td>\n",
       "      <td>0.107114</td>\n",
       "      <td>0.970361</td>\n",
       "    </tr>\n",
       "    <tr>\n",
       "      <td>350</td>\n",
       "      <td>0.115900</td>\n",
       "      <td>0.095260</td>\n",
       "      <td>0.976804</td>\n",
       "    </tr>\n",
       "    <tr>\n",
       "      <td>400</td>\n",
       "      <td>0.092400</td>\n",
       "      <td>0.089331</td>\n",
       "      <td>0.978093</td>\n",
       "    </tr>\n",
       "  </tbody>\n",
       "</table><p>"
      ],
      "text/plain": [
       "<IPython.core.display.HTML object>"
      ]
     },
     "metadata": {},
     "output_type": "display_data"
    },
    {
     "name": "stderr",
     "output_type": "stream",
     "text": [
      "/root/miniconda3/envs/nlp_train/lib/python3.11/site-packages/transformers/tokenization_utils_base.py:2706: UserWarning: `max_length` is ignored when `padding`=`True` and there is no truncation strategy. To pad to max length, use `padding='max_length'`.\n",
      "  warnings.warn(\n",
      "/root/miniconda3/envs/nlp_train/lib/python3.11/site-packages/transformers/modeling_utils.py:4225: FutureWarning: `_is_quantized_training_enabled` is going to be deprecated in transformers 4.39.0. Please use `model.hf_quantizer.is_trainable` instead\n",
      "  warnings.warn(\n",
      "/root/miniconda3/envs/nlp_train/lib/python3.11/site-packages/transformers/tokenization_utils_base.py:2706: UserWarning: `max_length` is ignored when `padding`=`True` and there is no truncation strategy. To pad to max length, use `padding='max_length'`.\n",
      "  warnings.warn(\n",
      "/root/miniconda3/envs/nlp_train/lib/python3.11/site-packages/transformers/modeling_utils.py:4225: FutureWarning: `_is_quantized_training_enabled` is going to be deprecated in transformers 4.39.0. Please use `model.hf_quantizer.is_trainable` instead\n",
      "  warnings.warn(\n",
      "/root/miniconda3/envs/nlp_train/lib/python3.11/site-packages/transformers/tokenization_utils_base.py:2706: UserWarning: `max_length` is ignored when `padding`=`True` and there is no truncation strategy. To pad to max length, use `padding='max_length'`.\n",
      "  warnings.warn(\n",
      "/root/miniconda3/envs/nlp_train/lib/python3.11/site-packages/transformers/modeling_utils.py:4225: FutureWarning: `_is_quantized_training_enabled` is going to be deprecated in transformers 4.39.0. Please use `model.hf_quantizer.is_trainable` instead\n",
      "  warnings.warn(\n",
      "/root/miniconda3/envs/nlp_train/lib/python3.11/site-packages/transformers/tokenization_utils_base.py:2706: UserWarning: `max_length` is ignored when `padding`=`True` and there is no truncation strategy. To pad to max length, use `padding='max_length'`.\n",
      "  warnings.warn(\n",
      "/root/miniconda3/envs/nlp_train/lib/python3.11/site-packages/transformers/modeling_utils.py:4225: FutureWarning: `_is_quantized_training_enabled` is going to be deprecated in transformers 4.39.0. Please use `model.hf_quantizer.is_trainable` instead\n",
      "  warnings.warn(\n",
      "/root/miniconda3/envs/nlp_train/lib/python3.11/site-packages/transformers/tokenization_utils_base.py:2706: UserWarning: `max_length` is ignored when `padding`=`True` and there is no truncation strategy. To pad to max length, use `padding='max_length'`.\n",
      "  warnings.warn(\n",
      "/root/miniconda3/envs/nlp_train/lib/python3.11/site-packages/transformers/modeling_utils.py:4225: FutureWarning: `_is_quantized_training_enabled` is going to be deprecated in transformers 4.39.0. Please use `model.hf_quantizer.is_trainable` instead\n",
      "  warnings.warn(\n",
      "/root/miniconda3/envs/nlp_train/lib/python3.11/site-packages/transformers/tokenization_utils_base.py:2706: UserWarning: `max_length` is ignored when `padding`=`True` and there is no truncation strategy. To pad to max length, use `padding='max_length'`.\n",
      "  warnings.warn(\n",
      "/root/miniconda3/envs/nlp_train/lib/python3.11/site-packages/transformers/modeling_utils.py:4225: FutureWarning: `_is_quantized_training_enabled` is going to be deprecated in transformers 4.39.0. Please use `model.hf_quantizer.is_trainable` instead\n",
      "  warnings.warn(\n",
      "/root/miniconda3/envs/nlp_train/lib/python3.11/site-packages/transformers/tokenization_utils_base.py:2706: UserWarning: `max_length` is ignored when `padding`=`True` and there is no truncation strategy. To pad to max length, use `padding='max_length'`.\n",
      "  warnings.warn(\n",
      "/root/miniconda3/envs/nlp_train/lib/python3.11/site-packages/transformers/modeling_utils.py:4225: FutureWarning: `_is_quantized_training_enabled` is going to be deprecated in transformers 4.39.0. Please use `model.hf_quantizer.is_trainable` instead\n",
      "  warnings.warn(\n",
      "/root/miniconda3/envs/nlp_train/lib/python3.11/site-packages/transformers/tokenization_utils_base.py:2706: UserWarning: `max_length` is ignored when `padding`=`True` and there is no truncation strategy. To pad to max length, use `padding='max_length'`.\n",
      "  warnings.warn(\n"
     ]
    },
    {
     "data": {
      "text/plain": [
       "TrainOutput(global_step=436, training_loss=0.1781699892577775, metrics={'train_runtime': 2277.5652, 'train_samples_per_second': 12.273, 'train_steps_per_second': 0.191, 'total_flos': 917336694512640.0, 'train_loss': 0.1781699892577775, 'epoch': 3.99})"
      ]
     },
     "execution_count": 12,
     "metadata": {},
     "output_type": "execute_result"
    }
   ],
   "source": [
    "def compute_metrics(eval_pred):\n",
    "    logits, labels = eval_pred\n",
    "    predictions = np.argmax(logits, axis=-1)\n",
    "    return metric.compute(predictions=predictions, references=labels)\n",
    "\n",
    "\n",
    "trainer = Trainer(\n",
    "    model=model,\n",
    "    args=training_args,\n",
    "    train_dataset=tokenized_text[\"train\"],\n",
    "    eval_dataset=tokenized_text[\"test\"],\n",
    "    tokenizer=tokenizer,\n",
    "    data_collator=data_collator,\n",
    "    compute_metrics=compute_metrics\n",
    ")\n",
    "\n",
    "trainer.train()\n"
   ]
  },
  {
   "cell_type": "code",
   "execution_count": 15,
   "id": "5cf32f6e-d489-4605-a9ce-cbcacbe28173",
   "metadata": {},
   "outputs": [],
   "source": [
    "training_logs = trainer.state.log_history"
   ]
  },
  {
   "cell_type": "code",
   "execution_count": 16,
   "id": "5e3db5f6-d9ff-4456-8acd-f3dc58acd1ab",
   "metadata": {
    "scrolled": true
   },
   "outputs": [
    {
     "data": {
      "text/plain": [
       "[{'loss': 0.2854,\n",
       "  'grad_norm': 3.0602524280548096,\n",
       "  'learning_rate': 1.7706422018348625e-05,\n",
       "  'epoch': 0.46,\n",
       "  'step': 50},\n",
       " {'eval_loss': 0.26876163482666016,\n",
       "  'eval_jit_compilation_time': 4.0738,\n",
       "  'eval_accuracy': 0.8865979381443299,\n",
       "  'eval_runtime': 17.3402,\n",
       "  'eval_samples_per_second': 44.752,\n",
       "  'eval_steps_per_second': 2.826,\n",
       "  'epoch': 0.46,\n",
       "  'step': 50},\n",
       " {'loss': 0.2841,\n",
       "  'grad_norm': 1.8814146518707275,\n",
       "  'learning_rate': 1.541284403669725e-05,\n",
       "  'epoch': 0.92,\n",
       "  'step': 100},\n",
       " {'eval_loss': 0.22093656659126282,\n",
       "  'eval_jit_compilation_time': 4.0736,\n",
       "  'eval_accuracy': 0.9123711340206185,\n",
       "  'eval_runtime': 17.3631,\n",
       "  'eval_samples_per_second': 44.692,\n",
       "  'eval_steps_per_second': 2.822,\n",
       "  'epoch': 0.92,\n",
       "  'step': 100},\n",
       " {'loss': 0.2228,\n",
       "  'grad_norm': 5.5217814445495605,\n",
       "  'learning_rate': 1.3119266055045871e-05,\n",
       "  'epoch': 1.37,\n",
       "  'step': 150},\n",
       " {'eval_loss': 0.16943641006946564,\n",
       "  'eval_jit_compilation_time': 4.1383,\n",
       "  'eval_accuracy': 0.9432989690721649,\n",
       "  'eval_runtime': 19.0023,\n",
       "  'eval_samples_per_second': 40.837,\n",
       "  'eval_steps_per_second': 2.579,\n",
       "  'epoch': 1.37,\n",
       "  'step': 150},\n",
       " {'loss': 0.1966,\n",
       "  'grad_norm': 2.5217103958129883,\n",
       "  'learning_rate': 1.0825688073394496e-05,\n",
       "  'epoch': 1.83,\n",
       "  'step': 200},\n",
       " {'eval_loss': 0.14824466407299042,\n",
       "  'eval_jit_compilation_time': 4.106,\n",
       "  'eval_accuracy': 0.9536082474226805,\n",
       "  'eval_runtime': 18.3451,\n",
       "  'eval_samples_per_second': 42.3,\n",
       "  'eval_steps_per_second': 2.671,\n",
       "  'epoch': 1.83,\n",
       "  'step': 200},\n",
       " {'loss': 0.1512,\n",
       "  'grad_norm': 3.0932531356811523,\n",
       "  'learning_rate': 8.53211009174312e-06,\n",
       "  'epoch': 2.29,\n",
       "  'step': 250},\n",
       " {'eval_loss': 0.1290828138589859,\n",
       "  'eval_jit_compilation_time': 4.0797,\n",
       "  'eval_accuracy': 0.9600515463917526,\n",
       "  'eval_runtime': 17.3894,\n",
       "  'eval_samples_per_second': 44.625,\n",
       "  'eval_steps_per_second': 2.818,\n",
       "  'epoch': 2.29,\n",
       "  'step': 250},\n",
       " {'loss': 0.1344,\n",
       "  'grad_norm': 3.2529327869415283,\n",
       "  'learning_rate': 6.238532110091744e-06,\n",
       "  'epoch': 2.75,\n",
       "  'step': 300},\n",
       " {'eval_loss': 0.10711351037025452,\n",
       "  'eval_jit_compilation_time': 4.2878,\n",
       "  'eval_accuracy': 0.970360824742268,\n",
       "  'eval_runtime': 19.3034,\n",
       "  'eval_samples_per_second': 40.2,\n",
       "  'eval_steps_per_second': 2.538,\n",
       "  'epoch': 2.75,\n",
       "  'step': 300},\n",
       " {'loss': 0.1159,\n",
       "  'grad_norm': 4.535194396972656,\n",
       "  'learning_rate': 3.944954128440367e-06,\n",
       "  'epoch': 3.2,\n",
       "  'step': 350},\n",
       " {'eval_loss': 0.09525962918996811,\n",
       "  'eval_jit_compilation_time': 4.178,\n",
       "  'eval_accuracy': 0.9768041237113402,\n",
       "  'eval_runtime': 18.4502,\n",
       "  'eval_samples_per_second': 42.059,\n",
       "  'eval_steps_per_second': 2.656,\n",
       "  'epoch': 3.2,\n",
       "  'step': 350},\n",
       " {'loss': 0.0924,\n",
       "  'grad_norm': 4.799798488616943,\n",
       "  'learning_rate': 1.6513761467889911e-06,\n",
       "  'epoch': 3.66,\n",
       "  'step': 400},\n",
       " {'eval_loss': 0.08933108299970627,\n",
       "  'eval_jit_compilation_time': 4.2292,\n",
       "  'eval_accuracy': 0.9780927835051546,\n",
       "  'eval_runtime': 18.7925,\n",
       "  'eval_samples_per_second': 41.293,\n",
       "  'eval_steps_per_second': 2.607,\n",
       "  'epoch': 3.66,\n",
       "  'step': 400},\n",
       " {'train_runtime': 2277.5652,\n",
       "  'train_samples_per_second': 12.273,\n",
       "  'train_steps_per_second': 0.191,\n",
       "  'total_flos': 917336694512640.0,\n",
       "  'train_loss': 0.1781699892577775,\n",
       "  'epoch': 3.99,\n",
       "  'step': 436}]"
      ]
     },
     "execution_count": 16,
     "metadata": {},
     "output_type": "execute_result"
    }
   ],
   "source": [
    "training_logs"
   ]
  },
  {
   "cell_type": "code",
   "execution_count": 17,
   "id": "3c4844bd-c3ae-445b-b5eb-a6f20f2d3c6f",
   "metadata": {},
   "outputs": [
    {
     "data": {
      "image/png": "[encoded data removed]",
      "text/plain": [
       "<Figure size 1200x600 with 1 Axes>"
      ]
     },
     "metadata": {},
     "output_type": "display_data"
    },
    {
     "data": {
      "image/png": "[encoded data removed]",
      "text/plain": [
       "<Figure size 1200x600 with 1 Axes>"
      ]
     },
     "metadata": {},
     "output_type": "display_data"
    }
   ],
   "source": [
    "import matplotlib.pyplot as plt\n",
    "\n",
    "train_steps = []\n",
    "train_losses = []\n",
    "eval_steps = []\n",
    "eval_losses = []\n",
    "eval_accuracies = []\n",
    "\n",
    "for log in training_logs:\n",
    "    if \"loss\" in log.keys() and (\"group\" not in log or \"train\" in log[\"group\"]):\n",
    "        train_steps.append(log[\"step\"])\n",
    "        train_losses.append(log[\"loss\"])\n",
    "    elif \"eval_loss\" in log.keys():\n",
    "        eval_steps.append(log[\"step\"])\n",
    "        eval_losses.append(log[\"eval_loss\"])\n",
    "        eval_accuracies.append(log[\"eval_accuracy\"])\n",
    "\n",
    "# 绘制训练损失和评估损失曲线\n",
    "plt.figure(figsize=(12, 6))\n",
    "plt.plot(train_steps, train_losses, label=\"Training Loss\")\n",
    "plt.plot(eval_steps, eval_losses, label=\"Evaluation Loss\")\n",
    "plt.xlabel(\"Training Steps\")\n",
    "plt.ylabel(\"Loss\")\n",
    "plt.legend()\n",
    "plt.show()\n",
    "\n",
    "# 绘制评估指标曲线\n",
    "plt.figure(figsize=(12, 6))\n",
    "plt.plot(eval_steps, eval_accuracies, label=\"Evaluation Accuracy\")\n",
    "plt.xlabel(\"Training Steps\")\n",
    "plt.ylabel(\"Accuracy\")\n",
    "plt.legend()\n",
    "plt.show()"
   ]
  },
  {
   "cell_type": "code",
   "execution_count": null,
   "id": "7ae2a153-1671-4b89-b64f-821ae4b251ca",
   "metadata": {},
   "outputs": [],
   "source": []
  }
 ],
 "metadata": {
  "kernelspec": {
   "display_name": "Python 3 (ipykernel)",
   "language": "python",
   "name": "python3"
  },
  "language_info": {
   "codemirror_mode": {
    "name": "ipython",
    "version": 3
   },
   "file_extension": ".py",
   "mimetype": "text/x-python",
   "name": "python",
   "nbconvert_exporter": "python",
   "pygments_lexer": "ipython3",
   "version": "3.11.8"
  }
 },
 "nbformat": 4,
 "nbformat_minor": 5
}
